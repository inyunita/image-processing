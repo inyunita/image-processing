{
  "nbformat": 4,
  "nbformat_minor": 0,
  "metadata": {
    "colab": {
      "provenance": [],
      "authorship_tag": "ABX9TyNWYf/DHbTwKaLXZn3XUZWA"
    },
    "kernelspec": {
      "name": "python3",
      "display_name": "Python 3"
    },
    "language_info": {
      "name": "python"
    }
  },
  "cells": [
    {
      "cell_type": "code",
      "execution_count": null,
      "metadata": {
        "id": "KObfFT14HMrq"
      },
      "outputs": [],
      "source": [
        "import cv2\n",
        "import numpy as np\n",
        "from google.colab.patches import cv2_imshow\n",
        "import matplotlib.pyplot as plt\n",
        "import glob\n",
        "import pandas as pd"
      ]
    },
    {
      "cell_type": "code",
      "source": [
        "from google.colab import drive\n",
        "drive.mount('/content/drive')"
      ],
      "metadata": {
        "colab": {
          "base_uri": "https://localhost:8080/"
        },
        "id": "u1_HkpOJHOoA",
        "outputId": "7d54278c-2524-4051-989f-6fdaf3b34c1e"
      },
      "execution_count": null,
      "outputs": [
        {
          "output_type": "stream",
          "name": "stdout",
          "text": [
            "Mounted at /content/drive\n"
          ]
        }
      ]
    },
    {
      "cell_type": "code",
      "source": [
        "#path untuk load 1000 image\n",
        "images_path = glob.glob('drive/MyDrive/Jagung All/Bulai_1000/*.png')"
      ],
      "metadata": {
        "id": "vNUhjrYTHQdC"
      },
      "execution_count": null,
      "outputs": []
    },
    {
      "cell_type": "code",
      "source": [
        "# Inisiasi Writer Excel\n",
        "writer = pd.ExcelWriter('Hue Moments_Indah Yunita.xlsx')"
      ],
      "metadata": {
        "id": "0UQdtLjjHU4n"
      },
      "execution_count": null,
      "outputs": []
    },
    {
      "cell_type": "code",
      "source": [
        "index = 0\n",
        "img_ke = 1\n",
        "tabel_hasil = []\n",
        "kolom = ['Image','moment_1', 'moment_2', 'moment_3', 'moment_4', 'moment_5', 'moment_6', 'moment_7']\n",
        "tabel_hasil.append(kolom)\n",
        "for image in images_path:\n",
        "    img = cv2.imread(image)   \n",
        "    gray = cv2.cvtColor(img, cv2.COLOR_BGR2GRAY)    \n",
        "    hue_results = cv2.HuMoments(cv2.moments(gray))\n",
        "    tabel_baris = [\n",
        "      img_ke,\n",
        "      hue_results[0],\n",
        "      hue_results[1],\n",
        "      hue_results[2],\n",
        "      hue_results[3],\n",
        "      hue_results[4],\n",
        "      hue_results[5],\n",
        "      hue_results[6]]\n",
        "    index+=1\n",
        "    img_ke+=1\n",
        "    tabel_hasil.append(tabel_baris)\n",
        "\n",
        "tabel_hasil = pd.DataFrame(tabel_hasil)\n",
        "tabel_hasil.to_excel(writer, sheet_name=\"Hue-Moments\")\n",
        "writer.save()"
      ],
      "metadata": {
        "id": "0lBufebLHmWJ"
      },
      "execution_count": null,
      "outputs": []
    }
  ]
}